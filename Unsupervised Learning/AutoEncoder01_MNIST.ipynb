{
 "cells": [
  {
   "cell_type": "code",
   "execution_count": 14,
   "metadata": {},
   "outputs": [
    {
     "name": "stdout",
     "output_type": "stream",
     "text": [
      "Extracting ../MNIST_data/train-images-idx3-ubyte.gz\n",
      "Extracting ../MNIST_data/train-labels-idx1-ubyte.gz\n",
      "Extracting ../MNIST_data/t10k-images-idx3-ubyte.gz\n",
      "Extracting ../MNIST_data/t10k-labels-idx1-ubyte.gz\n"
     ]
    }
   ],
   "source": [
    "import numpy as np\n",
    "import tensorflow as tf\n",
    "import matplotlib.pyplot as plt\n",
    "from tensorflow.examples.tutorials.mnist import input_data\n",
    "\n",
    "mnist = input_data.read_data_sets(\"../MNIST_data/\", one_hot=True)\n",
    "\n",
    "learning_rate = 0.01\n",
    "training_epoch = 10\n",
    "batch_size = 100\n",
    "n_hidden = 256\n",
    "n_input = 28*28"
   ]
  },
  {
   "cell_type": "code",
   "execution_count": 15,
   "metadata": {},
   "outputs": [],
   "source": [
    "X = tf.placeholder(tf.float32, [None, n_input])\n",
    "\n",
    "W_encode = tf.Variable(tf.random_normal([n_input, n_hidden]))\n",
    "b_encode = tf.Variable(tf.random_normal([n_hidden]))\n",
    "\n",
    "encoder = tf.nn.sigmoid(tf.add(tf.matmul(X,W_encode),b_encode))\n",
    "#n_hidden<n_input (입력보다 은닉층의 노드가 더 적음)\n",
    "\n",
    "W_decode = tf.Variable(tf.random_normal([n_hidden, n_input]))\n",
    "b_decode = tf.Variable(tf.random_normal([n_input]))\n",
    "\n",
    "decoder = tf.nn.sigmoid(tf.add(tf.matmul(encoder, W_decode), b_decode))\n",
    "\n",
    "cost = tf.reduce_mean(tf.pow(X-decoder, 2))#Y 대신 원래값 X로 cost설정\n",
    "\n",
    "optimizer = tf.train.AdamOptimizer(learning_rate).minimize(cost)\n",
    "\n",
    "sess= tf.Session()\n",
    "sess.run(tf.global_variables_initializer())\n",
    "\n",
    "total_batch = int(mnist.train.num_examples/ batch_size)"
   ]
  },
  {
   "cell_type": "code",
   "execution_count": 16,
   "metadata": {},
   "outputs": [
    {
     "name": "stdout",
     "output_type": "stream",
     "text": [
      "Epoch: 0001 Avg. cost = 0.1324\n",
      "Epoch: 0002 Avg. cost = 0.0758\n",
      "Epoch: 0003 Avg. cost = 0.0619\n",
      "Epoch: 0004 Avg. cost = 0.0518\n",
      "Epoch: 0005 Avg. cost = 0.0459\n",
      "Epoch: 0006 Avg. cost = 0.0419\n",
      "Epoch: 0007 Avg. cost = 0.0388\n",
      "Epoch: 0008 Avg. cost = 0.0362\n",
      "Epoch: 0009 Avg. cost = 0.0343\n",
      "Epoch: 0010 Avg. cost = 0.0327\n",
      "Training End\n"
     ]
    }
   ],
   "source": [
    "for epoch in range(training_epoch):\n",
    "    total_cost = 0\n",
    "\n",
    "    for i in range(total_batch):\n",
    "        batch_xs, batch_ys = mnist.train.next_batch(batch_size)\n",
    "        _,cost_val = sess.run([optimizer,cost], feed_dict = {X:batch_xs})\n",
    "\n",
    "        total_cost+=cost_val\n",
    "\n",
    "    print('Epoch:', '%04d' % (epoch+1),\n",
    "          'Avg. cost =', '{:.4f}'.format(total_cost/total_batch))\n",
    "print('Training End')\n",
    "\n",
    "        "
   ]
  },
  {
   "cell_type": "code",
   "execution_count": 17,
   "metadata": {},
   "outputs": [
    {
     "data": {
      "image/png": "[encoded data removed]",
      "text/plain": [
       "<Figure size 720x144 with 20 Axes>"
      ]
     },
     "metadata": {},
     "output_type": "display_data"
    }
   ],
   "source": [
    "sample_size = 10\n",
    "samples = sess.run(decoder, feed_dict = {X:mnist.test.images[:sample_size]})\n",
    "\n",
    "fig, ax = plt.subplots(2, sample_size, figsize = (sample_size, 2))\n",
    "\n",
    "for i in range(sample_size):\n",
    "    ax[0][i].set_axis_off()\n",
    "    ax[1][i].set_axis_off()\n",
    "    ax[0][i].imshow(np.reshape(mnist.test.images[i], (28,28)))\n",
    "    ax[1][i].imshow(np.reshape(samples[i],(28,28)))"
   ]
  },
  {
   "cell_type": "code",
   "execution_count": null,
   "metadata": {},
   "outputs": [],
   "source": []
  }
 ],
 "metadata": {
  "kernelspec": {
   "display_name": "Python [conda env:tensorflow]",
   "language": "python",
   "name": "conda-env-tensorflow-py"
  },
  "language_info": {
   "codemirror_mode": {
    "name": "ipython",
    "version": 3
   },
   "file_extension": ".py",
   "mimetype": "text/x-python",
   "name": "python",
   "nbconvert_exporter": "python",
   "pygments_lexer": "ipython3",
   "version": "3.5.5"
  }
 },
 "nbformat": 4,
 "nbformat_minor": 2
}
