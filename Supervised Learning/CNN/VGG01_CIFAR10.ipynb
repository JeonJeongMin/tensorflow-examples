{
 "cells": [
  {
   "cell_type": "code",
   "execution_count": 1,
   "metadata": {},
   "outputs": [
    {
     "name": "stderr",
     "output_type": "stream",
     "text": [
      "/home/ubuntu/anaconda3/envs/tensorflow_p36/lib/python3.6/site-packages/h5py/__init__.py:36: FutureWarning: Conversion of the second argument of issubdtype from `float` to `np.floating` is deprecated. In future, it will be treated as `np.float64 == np.dtype(float).type`.\n",
      "  from ._conv import register_converters as _register_converters\n",
      "/home/ubuntu/anaconda3/envs/tensorflow_p36/lib/python3.6/site-packages/matplotlib/__init__.py:1067: UserWarning: Duplicate key in file \"/home/ubuntu/.config/matplotlib/matplotlibrc\", line #2\n",
      "  (fname, cnt))\n",
      "/home/ubuntu/anaconda3/envs/tensorflow_p36/lib/python3.6/site-packages/matplotlib/__init__.py:1067: UserWarning: Duplicate key in file \"/home/ubuntu/.config/matplotlib/matplotlibrc\", line #3\n",
      "  (fname, cnt))\n",
      "Using TensorFlow backend.\n"
     ]
    }
   ],
   "source": [
    "import tensorflow as tf\n",
    "import numpy as np\n",
    "import matplotlib.pyplot as plt\n",
    "import random\n",
    "from keras.datasets.cifar10 import load_data\n",
    "(x_train, y_train), (x_test, y_test) = load_data()"
   ]
  },
  {
   "cell_type": "code",
   "execution_count": 2,
   "metadata": {},
   "outputs": [],
   "source": [
    "def next_batch(num, data, labels):\n",
    "    idx = np.arange(0,len(data))\n",
    "    np.random.shuffle(idx)\n",
    "    idx=idx[:num]\n",
    "    data_shuffle=[data[i] for i in idx]\n",
    "    labels_shuffle=[labels[i] for i in idx]\n",
    "    \n",
    "    return np.asarray(data_shuffle), np.asarray(labels_shuffle)"
   ]
  },
  {
   "cell_type": "code",
   "execution_count": 50,
   "metadata": {},
   "outputs": [],
   "source": [
    "learning_rate = 0.001\n",
    "training_epoch=20\n",
    "batch_size=100\n",
    "n_classes=10"
   ]
  },
  {
   "cell_type": "code",
   "execution_count": 51,
   "metadata": {},
   "outputs": [],
   "source": [
    "X = tf.placeholder(tf.float32,[None,32,32,3])\n",
    "Y = tf.placeholder(tf.int64,[None,1])\n",
    "Y_one_hot = tf.one_hot(Y,10) \n",
    "Y_one_hot = tf.reshape(Y_one_hot,[-1,10]) #shape맞춰줌\n",
    "\n",
    "L1 = tf.layers.conv2d(X,64,[3,3],padding='SAME',activation=tf.nn.relu)\n",
    "L1 = tf.layers.batch_normalization(L1)\n",
    "L1 = tf.layers.conv2d(L1,64,[3,3],padding='SAME',activation=tf.nn.relu)\n",
    "L1 = tf.layers.batch_normalization(L1)\n",
    "L1 = tf.layers.max_pooling2d(L1,[2,2],[2,2],padding='SAME')\n",
    "\n",
    "L2 = tf.layers.conv2d(L1,128,[3,3],padding='SAME',activation=tf.nn.relu)\n",
    "L2 = tf.layers.batch_normalization(L2)\n",
    "L2 = tf.layers.conv2d(L2,128,[3,3],padding='SAME',activation=tf.nn.relu)\n",
    "L2 = tf.layers.batch_normalization(L2)\n",
    "L2 = tf.layers.max_pooling2d(L2,[2,2],[2,2],padding='SAME')\n",
    "\n",
    "L3 = tf.layers.conv2d(L2,256,[3,3],padding='SAME',activation=tf.nn.relu)\n",
    "L3 = tf.layers.batch_normalization(L3)\n",
    "L3 = tf.layers.conv2d(L3,256,[3,3],padding='SAME',activation=tf.nn.relu)\n",
    "L3 = tf.layers.batch_normalization(L3)\n",
    "L3 = tf.layers.conv2d(L3,256,[3,3],padding='SAME',activation=tf.nn.relu)\n",
    "L3 = tf.layers.batch_normalization(L3)\n",
    "L3 = tf.layers.max_pooling2d(L3,[2,2],[2,2],padding='SAME')\n",
    "\n",
    "L4 = tf.layers.conv2d(L3,512,[3,3],padding='SAME',activation=tf.nn.relu)\n",
    "L4 = tf.layers.batch_normalization(L4)\n",
    "L4 = tf.layers.conv2d(L4,512,[3,3],padding='SAME',activation=tf.nn.relu)\n",
    "L4 = tf.layers.batch_normalization(L4)\n",
    "L4 = tf.layers.conv2d(L4,512,[3,3],padding='SAME',activation=tf.nn.relu)\n",
    "L4 = tf.layers.batch_normalization(L4)\n",
    "L4 = tf.layers.max_pooling2d(L4,[2,2],[2,2],padding='SAME')\n",
    "\n",
    "L5 = tf.layers.conv2d(L4,512,[3,3],padding='SAME',activation=tf.nn.relu)\n",
    "L5 = tf.layers.batch_normalization(L5)\n",
    "L5 = tf.layers.conv2d(L5,512,[3,3],padding='SAME',activation=tf.nn.relu)\n",
    "L5 = tf.layers.batch_normalization(L5)\n",
    "L5 = tf.layers.conv2d(L5,512,[3,3],padding='SAME',activation=tf.nn.relu)\n",
    "L5 = tf.layers.batch_normalization(L5)\n",
    "L5 = tf.layers.max_pooling2d(L5,[2,2],[2,2],padding='SAME')\n",
    "\n",
    "L6 = tf.contrib.layers.flatten(L5)#version 다름\n",
    "L6 = tf.layers.dense(L6,512,activation=tf.nn.relu)\n",
    "#L6 = tf.layers.dense(L6,512,activation=tf.nn.relu)\n",
    "\n",
    "logits = tf.layers.dense(L6,10,activation=None)\n",
    "\n",
    "cost = tf.reduce_mean(tf.nn.softmax_cross_entropy_with_logits_v2(logits=logits,labels=Y_one_hot))\n",
    "optimizer = tf.train.AdamOptimizer(learning_rate).minimize(cost)\n",
    "\n",
    "is_correct=tf.equal(tf.argmax(logits,1),tf.argmax(Y_one_hot,1))# 2번째 항tf.argmax(Y_one_hot,1)\n",
    "accuracy = tf.reduce_mean(tf.cast(is_correct,tf.float32))"
   ]
  },
  {
   "cell_type": "code",
   "execution_count": 52,
   "metadata": {},
   "outputs": [
    {
     "name": "stdout",
     "output_type": "stream",
     "text": [
      "Learning Start\n",
      "Epoch: 001 Cost:2.364511541\n",
      "Epoch: 002 Cost:2.210100253\n",
      "Epoch: 003 Cost:1.778393979\n",
      "Epoch: 004 Cost:1.441989727\n",
      "Epoch: 005 Cost:1.094041358\n",
      "Epoch: 006 Cost:0.898911246\n",
      "Epoch: 007 Cost:0.750431495\n",
      "Epoch: 008 Cost:0.653018356\n",
      "Epoch: 009 Cost:0.565884948\n",
      "Epoch: 010 Cost:0.503873956\n",
      "Epoch: 011 Cost:0.438367655\n",
      "Epoch: 012 Cost:0.385256988\n",
      "Epoch: 013 Cost:0.358067915\n",
      "Epoch: 014 Cost:0.309105958\n",
      "Epoch: 015 Cost:0.274850856\n",
      "Epoch: 016 Cost:0.238117730\n",
      "Epoch: 017 Cost:0.232132676\n",
      "Epoch: 018 Cost:0.213716904\n",
      "Epoch: 019 Cost:0.291020925\n",
      "Epoch: 020 Cost:0.205823259\n",
      "Learning Finished\n"
     ]
    }
   ],
   "source": [
    "sess=tf.Session()\n",
    "sess.run(tf.global_variables_initializer())\n",
    "total_batch = int(x_train.shape[0]/batch_size)\n",
    "\n",
    "print('Learning Start')\n",
    "for epoch in range(training_epoch):\n",
    "    c_avg = 0\n",
    "    for i in range(total_batch):\n",
    "        batch_xs, batch_ys = next_batch(batch_size,x_train,y_train)\n",
    "        c,_=sess.run([cost,optimizer],feed_dict={X:batch_xs,Y:batch_ys})\n",
    "        c_avg+=c/total_batch\n",
    "    \n",
    "    x_s,y_s=next_batch(1000,x_test,y_test)\n",
    "    print('Epoch: {:03d}'.format(epoch+1),'Cost:%.9f'%c_avg)\n",
    "    #print('Acc:{:.5f}'.format(sess.run(accuracy,feed_dict={X:x_s,Y:y_s})))\n",
    "    \n",
    "print('Learning Finished')    "
   ]
  },
  {
   "cell_type": "code",
   "execution_count": 53,
   "metadata": {},
   "outputs": [
    {
     "name": "stdout",
     "output_type": "stream",
     "text": [
      "0.7702999955415726\n"
     ]
    }
   ],
   "source": [
    "#전체 테스트셋에서의 정확도 OOM때문에 분할계산 후 평균\n",
    "acc_avg=0\n",
    "test_size = x_test.shape[0]\n",
    "total_batch = int(test_size/batch_size)\n",
    "for i in range(total_batch):\n",
    "    offset = i*batch_size\n",
    "    x_s,y_s=x_test[offset:offset+batch_size],y_test[offset:offset+batch_size]\n",
    "    c=sess.run(accuracy,feed_dict={X:x_s,Y:y_s})\n",
    "    acc_avg+=c\n",
    "print(acc_avg/total_batch)"
   ]
  },
  {
   "cell_type": "code",
   "execution_count": 77,
   "metadata": {},
   "outputs": [
    {
     "name": "stdout",
     "output_type": "stream",
     "text": [
      "실제값: [[4]]\n",
      "예측값: [4]\n"
     ]
    }
   ],
   "source": [
    "#랜덤한 수로 하나 뽑음\n",
    "import random\n",
    "a=random.randint(0,x_test.shape[0]-1)\n",
    "print(\"실제값:\",y_test[a:a+1])\n",
    "print(\"예측값:\",sess.run(tf.argmax(logits,1),feed_dict={X:x_test[a:a+1]}))"
   ]
  }
 ],
 "metadata": {
  "kernelspec": {
   "display_name": "Python 3",
   "language": "python",
   "name": "python3"
  },
  "language_info": {
   "codemirror_mode": {
    "name": "ipython",
    "version": 3
   },
   "file_extension": ".py",
   "mimetype": "text/x-python",
   "name": "python",
   "nbconvert_exporter": "python",
   "pygments_lexer": "ipython3",
   "version": "3.6.8"
  }
 },
 "nbformat": 4,
 "nbformat_minor": 2
}
