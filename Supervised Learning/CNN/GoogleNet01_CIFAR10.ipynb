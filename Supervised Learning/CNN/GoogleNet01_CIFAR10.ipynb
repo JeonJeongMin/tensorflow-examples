{
 "cells": [
  {
   "cell_type": "code",
   "execution_count": 1,
   "metadata": {
    "scrolled": true
   },
   "outputs": [
    {
     "name": "stderr",
     "output_type": "stream",
     "text": [
      "/home/ubuntu/anaconda3/envs/tensorflow_p36/lib/python3.6/site-packages/h5py/__init__.py:36: FutureWarning: Conversion of the second argument of issubdtype from `float` to `np.floating` is deprecated. In future, it will be treated as `np.float64 == np.dtype(float).type`.\n",
      "  from ._conv import register_converters as _register_converters\n",
      "/home/ubuntu/anaconda3/envs/tensorflow_p36/lib/python3.6/site-packages/matplotlib/__init__.py:1067: UserWarning: Duplicate key in file \"/home/ubuntu/.config/matplotlib/matplotlibrc\", line #2\n",
      "  (fname, cnt))\n",
      "/home/ubuntu/anaconda3/envs/tensorflow_p36/lib/python3.6/site-packages/matplotlib/__init__.py:1067: UserWarning: Duplicate key in file \"/home/ubuntu/.config/matplotlib/matplotlibrc\", line #3\n",
      "  (fname, cnt))\n",
      "Using TensorFlow backend.\n"
     ]
    }
   ],
   "source": [
    "import tensorflow as tf\n",
    "import numpy as np\n",
    "import matplotlib.pyplot as plt\n",
    "import random\n",
    "from keras.datasets.cifar10 import load_data\n",
    "(x_train, y_train), (x_test, y_test) = load_data()"
   ]
  },
  {
   "cell_type": "code",
   "execution_count": 2,
   "metadata": {},
   "outputs": [],
   "source": [
    "#validation set 나누기\n",
    "x_val,y_val = x_train[-10000:], y_train[-10000:]\n",
    "x_train, y_train = x_train[:40000], y_train[:40000]"
   ]
  },
  {
   "cell_type": "code",
   "execution_count": 3,
   "metadata": {},
   "outputs": [],
   "source": [
    "def next_batch(num, data, labels):\n",
    "    idx = np.arange(0,len(data))\n",
    "    np.random.shuffle(idx)\n",
    "    idx=idx[:num]\n",
    "    data_shuffle=[data[i] for i in idx]\n",
    "    labels_shuffle=[labels[i] for i in idx]\n",
    "    \n",
    "    return np.asarray(data_shuffle), np.asarray(labels_shuffle)"
   ]
  },
  {
   "cell_type": "code",
   "execution_count": 5,
   "metadata": {},
   "outputs": [],
   "source": [
    "learning_rate = 0.001\n",
    "training_epoch=10\n",
    "batch_size=128\n",
    "n_classes=10"
   ]
  },
  {
   "cell_type": "code",
   "execution_count": 6,
   "metadata": {
    "scrolled": false
   },
   "outputs": [],
   "source": [
    "class Inception():\n",
    "    def __init__(self,X,kernel_1_out,kernel_3_in,kernel_3_out,kernel_5_in,kernel_5_out,pool_out):\n",
    "        #1x1\n",
    "        self.L1 = tf.layers.conv2d(X,kernel_1_out,[1,1],padding='SAME', activation=tf.nn.relu)\n",
    "        self.L1 = tf.layers.batch_normalization(self.L1)\n",
    "        \n",
    "        #1x1 -> 3x3\n",
    "        self.L2 = tf.layers.conv2d(X,kernel_3_in,[1,1],padding='SAME', activation=tf.nn.relu)\n",
    "        self.L2 = tf.layers.batch_normalization(self.L2)\n",
    "        self.L2 = tf.layers.conv2d(self.L2,kernel_3_out,[3,3],padding='SAME', activation=tf.nn.relu)\n",
    "        self.L2 = tf.layers.batch_normalization(self.L2)\n",
    "        \n",
    "        #1x1 -> 5x5\n",
    "        self.L3 = tf.layers.conv2d(X,kernel_5_in,[1,1],padding='SAME', activation=tf.nn.relu)\n",
    "        self.L3 = tf.layers.batch_normalization(self.L3)\n",
    "        self.L3 = tf.layers.conv2d(self.L3,kernel_5_out,[3,3],padding='SAME', activation=tf.nn.relu)\n",
    "        self.L3 = tf.layers.batch_normalization(self.L3)\n",
    "        self.L3 = tf.layers.conv2d(self.L3,kernel_5_out,[3,3],padding='SAME', activation=tf.nn.relu)\n",
    "        self.L3 = tf.layers.batch_normalization(self.L3)\n",
    "        \n",
    "        #3x3max_pool -> 3x3\n",
    "        self.L4 = tf.layers.max_pooling2d(X,[3,3],[1,1],padding='SAME')\n",
    "        self.L4 = tf.layers.conv2d(X,pool_out,[3,3],padding='SAME', activation=tf.nn.relu)\n",
    "        self.L4 = tf.layers.batch_normalization(self.L4)\n",
    "        \n",
    "    def forward(self):\n",
    "        return tf.concat([self.L1,self.L2,self.L3,self.L4],axis=3)\n",
    "\n",
    "class GoogLenet():\n",
    "    def __init__(self,sess):\n",
    "        self.sess=sess\n",
    "        self.X = tf.placeholder(tf.float32,[None,32,32,3])\n",
    "        self.Y = tf.placeholder(tf.int64,[None,1])\n",
    "        self.Y_one_hot = tf.one_hot(self.Y,10)\n",
    "        self.Y_one_hot = tf.reshape(self.Y_one_hot,[-1,10])\n",
    "        self.build_net()\n",
    "        \n",
    "    def build_net(self):\n",
    "        self.pre=tf.layers.conv2d(self.X,192,[3,3],padding='SAME',activation=tf.nn.relu)\n",
    "        self.pre=tf.layers.batch_normalization(self.pre)\n",
    "        \n",
    "        #input, 1x1out, 3x3in, 3x3out, 5x5in, 5x5out, pool_out\n",
    "        self.g1=Inception(self.pre,64,96,128,16,32,32)#64+128+32+32=256 concat후 채널수\n",
    "        self.g2=Inception(self.g1.forward(),128,128,192,32,96,64)\n",
    "        self.max_pool1=tf.layers.max_pooling2d(self.g2.forward(),[2,2],[2,2],padding='SAME')\n",
    "    \n",
    "        self.g3=Inception(self.max_pool1,32,32,32,32,32,32)\n",
    "        self.g4=Inception(self.g3.forward(),64,32,32,32,32,32)\n",
    "        self.g5=Inception(self.g4.forward(),64,32,32,32,32,32)\n",
    "        self.g6=Inception(self.g5.forward(),64,32,32,32,32,32)\n",
    "        self.g7=Inception(self.g6.forward(),64,32,32,32,32,32)\n",
    "        self.max_pool2=tf.layers.max_pooling2d(self.g7.forward(),[2,2],[2,2],padding='SAME')\n",
    "    \n",
    "        self.g8=Inception(self.max_pool2,64,32,32,32,32,32)\n",
    "        self.g9=Inception(self.g8.forward(),64,32,32,32,32,32)\n",
    "        \n",
    "        self.avg_pool=tf.layers.average_pooling2d(self.g9.forward(),[8,8],[1,1],padding='SAME')\n",
    "        \n",
    "        last_L=tf.layers.flatten(self.avg_pool)\n",
    "        FC = tf.layers.dense(last_L,512,activation=tf.nn.relu)\n",
    "        self.logits = tf.layers.dense(FC,10,activation=None)\n",
    "\n",
    "        self.cost = tf.reduce_mean(tf.nn.softmax_cross_entropy_with_logits_v2(logits=self.logits,labels=self.Y_one_hot))\n",
    "        self.optimizer = tf.train.AdamOptimizer(learning_rate).minimize(self.cost)\n",
    "\n",
    "        is_correct=tf.equal(tf.argmax(self.logits,1),tf.argmax(self.Y_one_hot,1))\n",
    "        self.accuracy = tf.reduce_mean(tf.cast(is_correct,tf.float32))\n",
    "        \n",
    "    def train(self,x_data,y_data):\n",
    "        return self.sess.run([self.cost,self.optimizer],feed_dict={self.X:x_data,self.Y:y_data})\n",
    "    \n",
    "    def get_accuracy(self,x_test,y_test):\n",
    "        return self.sess.run(self.accuracy,feed_dict={self.X:x_test,self.Y:y_test})\n",
    "    \n",
    "    def prediction(self,x_test):\n",
    "        return self.sess.run(tf.argmax(self.logits,1),feed_dict={self.X:x_test})\n"
   ]
  },
  {
   "cell_type": "code",
   "execution_count": 7,
   "metadata": {},
   "outputs": [
    {
     "name": "stdout",
     "output_type": "stream",
     "text": [
      "Load Fail\n"
     ]
    }
   ],
   "source": [
    "#Saver\n",
    "global_step = tf.Variable(0, trainable=True, name='global_step')#초기값0 trainable-카운트\n",
    "sess=tf.Session()\n",
    "\n",
    "#세션 생성후 모델생성\n",
    "model= GoogLenet(sess)\n",
    "\n",
    "saver = tf.train.Saver(tf.global_variables())#앞서 정의한 변수를 가져오는 함수\n",
    "ckpt = tf.train.get_checkpoint_state('./Saver/GoogLenet001')\n",
    "if ckpt and tf.train.checkpoint_exists(ckpt.model_checkpoint_path):# if you want to skip, add and 0 \n",
    "    saver.restore(sess, ckpt.model_checkpoint_path)\n",
    "    print('Load Success')\n",
    "else:\n",
    "    sess.run(tf.global_variables_initializer())\n",
    "    print('Load Fail')"
   ]
  },
  {
   "cell_type": "code",
   "execution_count": 8,
   "metadata": {
    "scrolled": true
   },
   "outputs": [
    {
     "name": "stdout",
     "output_type": "stream",
     "text": [
      "Learning Start\n",
      "Epoch: 001 Cost:1.9277818 Val_Acc:0.42030 Train_Acc:0.421875\n",
      "Epoch: 002 Cost:1.3649510 Val_Acc:0.56610 Train_Acc:0.580469\n",
      "Epoch: 003 Cost:1.0804281 Val_Acc:0.63230 Train_Acc:0.665625\n",
      "Epoch: 004 Cost:0.8732932 Val_Acc:0.69960 Train_Acc:0.729687\n",
      "Epoch: 005 Cost:0.7349302 Val_Acc:0.71590 Train_Acc:0.757031\n",
      "Epoch: 006 Cost:0.6361264 Val_Acc:0.71430 Train_Acc:0.757812\n",
      "Epoch: 007 Cost:0.5495704 Val_Acc:0.73340 Train_Acc:0.820312\n",
      "Epoch: 008 Cost:0.4912168 Val_Acc:0.75150 Train_Acc:0.828125\n",
      "Epoch: 009 Cost:0.4427347 Val_Acc:0.76030 Train_Acc:0.867188\n",
      "Epoch: 010 Cost:0.3956081 Val_Acc:0.77380 Train_Acc:0.875000\n",
      "Max_val_acc:0.77380\n",
      "Learning Finished\n"
     ]
    }
   ],
   "source": [
    "total_batch = int(x_train.shape[0]/batch_size)\n",
    "\n",
    "print('Learning Start')\n",
    "\n",
    "max_val_acc = 0\n",
    "for epoch in range(10):\n",
    "    c_avg = 0\n",
    "    for i in range(total_batch):\n",
    "        batch_xs, batch_ys = next_batch(batch_size,x_train,y_train)\n",
    "        c,_=model.train(batch_xs,batch_ys)\n",
    "        c_avg+=c/total_batch\n",
    "        \n",
    "    \n",
    "    val_acc=0\n",
    "    train_acc=0\n",
    "    for i in range(training_epoch):\n",
    "        offset = i*1000\n",
    "        x_s,y_s=x_test[offset:offset+1000],y_test[offset:offset+1000]\n",
    "        val_acc_tmp=model.get_accuracy(x_s,y_s)\n",
    "        val_acc+=val_acc_tmp/10\n",
    "        \n",
    "    for i in range(10):\n",
    "        x_s,y_s=next_batch(batch_size,x_train,y_train)\n",
    "        train_acc_tmp=model.get_accuracy(x_s,y_s)\n",
    "        train_acc+=train_acc_tmp/10\n",
    "        \n",
    "    if max_val_acc<val_acc:\n",
    "        max_val_acc=val_acc\n",
    "        saver.save(sess, './Saver/GoogLenet01/GoogLenet01.ckpt',global_step = global_step)\n",
    "    print('Epoch: {:03d}'.format(epoch+1),'Cost:%.7f'%c_avg,'Val_Acc:{:.5f}'.format(val_acc),'Train_Acc:{:5f}'.format(train_acc))\n",
    "    \n",
    "    \n",
    "print('Max_val_acc:{:.5f}'.format(max_val_acc))    \n",
    "print('Learning Finished')    "
   ]
  },
  {
   "cell_type": "code",
   "execution_count": 9,
   "metadata": {},
   "outputs": [
    {
     "name": "stdout",
     "output_type": "stream",
     "text": [
      "INFO:tensorflow:Restoring parameters from ./Saver/GoogLenet01/GoogLenet01.ckpt-0\n",
      "Load Success\n"
     ]
    }
   ],
   "source": [
    "#Val_Acc 기준으로 가장 좋은모델 불러오기\n",
    "ckpt = tf.train.get_checkpoint_state('./Saver/GoogLenet01')\n",
    "if ckpt and tf.train.checkpoint_exists(ckpt.model_checkpoint_path):# if you want to skip, add and 0 \n",
    "    saver.restore(sess, ckpt.model_checkpoint_path)\n",
    "    print('Load Success')\n",
    "else:\n",
    "    sess.run(tf.global_variables_initializer())\n",
    "    print('Load Fail')"
   ]
  },
  {
   "cell_type": "code",
   "execution_count": 10,
   "metadata": {},
   "outputs": [
    {
     "name": "stdout",
     "output_type": "stream",
     "text": [
      "0.7740384615384616\n"
     ]
    }
   ],
   "source": [
    "#전체 테스트셋에서의 정확도 OOM때문에 분할계산 후 평균\n",
    "acc_avg=0\n",
    "test_size = x_test.shape[0]\n",
    "total_batch = int(test_size/batch_size)\n",
    "\n",
    "for i in range(total_batch):\n",
    "    offset = i*batch_size\n",
    "    x_s,y_s=x_test[offset:offset+batch_size],y_test[offset:offset+batch_size]\n",
    "    c=model.get_accuracy(x_s,y_s)\n",
    "    acc_avg+=c\n",
    "print(acc_avg/total_batch)"
   ]
  },
  {
   "cell_type": "code",
   "execution_count": 21,
   "metadata": {},
   "outputs": [
    {
     "name": "stdout",
     "output_type": "stream",
     "text": [
      "실제값: [[9]]\n",
      "예측값: [9]\n"
     ]
    }
   ],
   "source": [
    "#랜덤한 수로 하나 뽑음\n",
    "import random\n",
    "a=random.randint(0,x_test.shape[0]-1)\n",
    "print(\"실제값:\",y_test[a:a+1])\n",
    "print(\"예측값:\",model.prediction(x_test[a:a+1]))"
   ]
  }
 ],
 "metadata": {
  "kernelspec": {
   "display_name": "Environment (conda_tensorflow_p36)",
   "language": "python",
   "name": "conda_tensorflow_p36"
  },
  "language_info": {
   "codemirror_mode": {
    "name": "ipython",
    "version": 3
   },
   "file_extension": ".py",
   "mimetype": "text/x-python",
   "name": "python",
   "nbconvert_exporter": "python",
   "pygments_lexer": "ipython3",
   "version": "3.6.4"
  }
 },
 "nbformat": 4,
 "nbformat_minor": 2
}
