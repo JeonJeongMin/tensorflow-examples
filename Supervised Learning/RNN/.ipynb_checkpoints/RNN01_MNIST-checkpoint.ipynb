{
 "cells": [
  {
   "cell_type": "markdown",
   "metadata": {
    "colab_type": "text",
    "id": "view-in-github"
   },
   "source": [
    "<a href=\"https://colab.research.google.com/github/JeonJeongMin/tensorflow-examples/blob/master/Unsupervised%20Learning/RNN01_MNIST.ipynb\" target=\"_parent\"><img src=\"https://colab.research.google.com/assets/colab-badge.svg\" alt=\"Open In Colab\"/></a>"
   ]
  },
  {
   "cell_type": "markdown",
   "metadata": {
    "colab_type": "text",
    "id": "pXTXgg4l3psB"
   },
   "source": [
    "#Import module"
   ]
  },
  {
   "cell_type": "code",
   "execution_count": 15,
   "metadata": {
    "colab": {
     "base_uri": "https://localhost:8080/",
     "height": 89
    },
    "colab_type": "code",
    "id": "ittkb3WwxuU_",
    "outputId": "5651136d-667e-4e04-d601-3cc77a5efa08"
   },
   "outputs": [
    {
     "name": "stdout",
     "output_type": "stream",
     "text": [
      "Extracting ../MNIST_data/train-images-idx3-ubyte.gz\n",
      "Extracting ../MNIST_data/train-labels-idx1-ubyte.gz\n",
      "Extracting ../MNIST_data/t10k-images-idx3-ubyte.gz\n",
      "Extracting ../MNIST_data/t10k-labels-idx1-ubyte.gz\n"
     ]
    }
   ],
   "source": [
    "import tensorflow as tf\n",
    "import numpy as np\n",
    "import matplotlib.pyplot as plt\n",
    "from tensorflow.examples.tutorials.mnist import input_data\n",
    "tf.set_random_seed(777)\n",
    "mnist = input_data.read_data_sets(\"../MNIST_data/\", one_hot = True)"
   ]
  },
  {
   "cell_type": "markdown",
   "metadata": {
    "colab_type": "text",
    "id": "82LjqoWm3u4a"
   },
   "source": [
    "#Setting Parameter"
   ]
  },
  {
   "cell_type": "code",
   "execution_count": 0,
   "metadata": {
    "colab": {},
    "colab_type": "code",
    "id": "dtg5SLzGyZAr"
   },
   "outputs": [],
   "source": [
    "learning_rate=0.001\n",
    "total_epoch=30\n",
    "batch_size=128\n",
    "n_input=28\n",
    "n_step=28\n",
    "n_hidden=128\n",
    "n_class=10"
   ]
  },
  {
   "cell_type": "markdown",
   "metadata": {
    "colab_type": "text",
    "id": "WjhU10to30cv"
   },
   "source": [
    "#Model"
   ]
  },
  {
   "cell_type": "code",
   "execution_count": 0,
   "metadata": {
    "colab": {},
    "colab_type": "code",
    "id": "GNtxAJlTxxlN"
   },
   "outputs": [],
   "source": [
    "tf.reset_default_graph()\n",
    "X = tf.placeholder(tf.float32,[None,n_step,n_input])\n",
    "Y = tf.placeholder(tf.float32,[None,n_class])\n",
    "\n",
    "cell = tf.nn.rnn_cell.BasicLSTMCell(n_hidden)\n",
    "\n",
    "outputs, states = tf.nn.dynamic_rnn(cell, X, dtype=tf.float32)\n",
    "\n",
    "outputs = tf.transpose(outputs,[1,0,2])#행렬의 순서를 바꿈\n",
    "outputs = outputs[-1]\n",
    "\n",
    "model = tf.layers.dense(outputs, n_class, activation=None)\n",
    "\n",
    "cost = tf.reduce_mean(tf.nn.softmax_cross_entropy_with_logits_v2(\n",
    "                      logits=model, labels=Y))\n",
    "optimizer = tf.train.AdamOptimizer(learning_rate).minimize(cost)\n"
   ]
  },
  {
   "cell_type": "markdown",
   "metadata": {
    "colab_type": "text",
    "id": "67CpqDBp34P0"
   },
   "source": [
    "#Learning"
   ]
  },
  {
   "cell_type": "code",
   "execution_count": 23,
   "metadata": {
    "colab": {
     "base_uri": "https://localhost:8080/",
     "height": 593
    },
    "colab_type": "code",
    "id": "xLGPY8ldzXWs",
    "outputId": "6c56ef00-7a8c-494c-f891-b2fe7cfb498e"
   },
   "outputs": [
    {
     "name": "stdout",
     "output_type": "stream",
     "text": [
      "Leaning Start!\n",
      "Epoch:0001 Avg_cost0.532717\n",
      "Epoch:0002 Avg_cost0.152349\n",
      "Epoch:0003 Avg_cost0.102311\n",
      "Epoch:0004 Avg_cost0.078202\n",
      "Epoch:0005 Avg_cost0.063922\n",
      "Epoch:0006 Avg_cost0.054996\n",
      "Epoch:0007 Avg_cost0.046584\n",
      "Epoch:0008 Avg_cost0.040444\n",
      "Epoch:0009 Avg_cost0.038537\n",
      "Epoch:0010 Avg_cost0.032979\n",
      "Epoch:0011 Avg_cost0.028125\n",
      "Epoch:0012 Avg_cost0.029233\n",
      "Epoch:0013 Avg_cost0.024664\n",
      "Epoch:0014 Avg_cost0.024811\n",
      "Epoch:0015 Avg_cost0.018545\n",
      "Epoch:0016 Avg_cost0.019068\n",
      "Epoch:0017 Avg_cost0.015626\n",
      "Epoch:0018 Avg_cost0.020154\n",
      "Epoch:0019 Avg_cost0.012490\n",
      "Epoch:0020 Avg_cost0.016010\n",
      "Epoch:0021 Avg_cost0.013570\n",
      "Epoch:0022 Avg_cost0.014590\n",
      "Epoch:0023 Avg_cost0.009673\n",
      "Epoch:0024 Avg_cost0.013952\n",
      "Epoch:0025 Avg_cost0.009073\n",
      "Epoch:0026 Avg_cost0.009296\n",
      "Epoch:0027 Avg_cost0.012974\n",
      "Epoch:0028 Avg_cost0.008140\n",
      "Epoch:0029 Avg_cost0.009216\n",
      "Epoch:0030 Avg_cost0.007993\n",
      "Learning finish!\n"
     ]
    }
   ],
   "source": [
    "sess = tf.Session()\n",
    "sess.run(tf.global_variables_initializer())\n",
    "\n",
    "total_batch = int(mnist.train.num_examples/batch_size)\n",
    "\n",
    "print('Leaning Start!')\n",
    "for epoch in range(total_epoch):\n",
    "  total_cost = 0\n",
    "  for i in range(total_batch):\n",
    "    batch_xs, batch_ys = mnist.train.next_batch(batch_size)\n",
    "    batch_xs = batch_xs.reshape([batch_size, n_step, n_input])\n",
    "    cost_val,_ = sess.run([cost,optimizer], feed_dict={X:batch_xs, Y:batch_ys})\n",
    "    total_cost +=cost_val\n",
    "    \n",
    "  print('Epoch:%02d'%(epoch+1), 'Avg_cost:{:3f}'.format(total_cost/total_batch))\n",
    "  \n",
    "print('Learning finish!')"
   ]
  },
  {
   "cell_type": "markdown",
   "metadata": {
    "colab_type": "text",
    "id": "zjw3Rqoj5mRs"
   },
   "source": [
    "#Accuray"
   ]
  },
  {
   "cell_type": "code",
   "execution_count": 27,
   "metadata": {
    "colab": {
     "base_uri": "https://localhost:8080/",
     "height": 35
    },
    "colab_type": "code",
    "id": "kGr3wcKO3THS",
    "outputId": "5d235875-1f70-40e4-922b-c7cc1061a08b"
   },
   "outputs": [
    {
     "name": "stdout",
     "output_type": "stream",
     "text": [
      "Accuracy:0.9854000210762024\n"
     ]
    }
   ],
   "source": [
    "is_correct = tf.equal(tf.argmax(model,1), tf.argmax(Y,1))\n",
    "accuracy = tf.reduce_mean(tf.cast(is_correct,tf.float32))\n",
    "\n",
    "test_batch_size = len(mnist.test.images)\n",
    "xs,ys = mnist.test.next_batch(test_batch_size)\n",
    "xs = xs.reshape([test_batch_size,n_step,n_input])\n",
    "\n",
    "print('Accuracy:{:04}'.format(sess.run(accuracy, feed_dict={X:xs, Y:ys})))\n"
   ]
  }
 ],
 "metadata": {
  "accelerator": "GPU",
  "colab": {
   "collapsed_sections": [],
   "include_colab_link": true,
   "name": "RNN01_MNIST.ipynb",
   "provenance": [],
   "version": "0.3.2"
  },
  "kernelspec": {
   "display_name": "Python 3",
   "language": "python",
   "name": "python3"
  },
  "language_info": {
   "codemirror_mode": {
    "name": "ipython",
    "version": 3
   },
   "file_extension": ".py",
   "mimetype": "text/x-python",
   "name": "python",
   "nbconvert_exporter": "python",
   "pygments_lexer": "ipython3",
   "version": "3.6.8"
  }
 },
 "nbformat": 4,
 "nbformat_minor": 1
}
