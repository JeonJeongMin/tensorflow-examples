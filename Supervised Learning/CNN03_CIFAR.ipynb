{
 "cells": [
  {
   "cell_type": "code",
   "execution_count": 1,
   "metadata": {
    "scrolled": true
   },
   "outputs": [
    {
     "name": "stderr",
     "output_type": "stream",
     "text": [
      "/home/ubuntu/anaconda3/envs/tensorflow_p36/lib/python3.6/site-packages/h5py/__init__.py:36: FutureWarning: Conversion of the second argument of issubdtype from `float` to `np.floating` is deprecated. In future, it will be treated as `np.float64 == np.dtype(float).type`.\n",
      "  from ._conv import register_converters as _register_converters\n",
      "/home/ubuntu/anaconda3/envs/tensorflow_p36/lib/python3.6/site-packages/matplotlib/__init__.py:1067: UserWarning: Duplicate key in file \"/home/ubuntu/.config/matplotlib/matplotlibrc\", line #2\n",
      "  (fname, cnt))\n",
      "/home/ubuntu/anaconda3/envs/tensorflow_p36/lib/python3.6/site-packages/matplotlib/__init__.py:1067: UserWarning: Duplicate key in file \"/home/ubuntu/.config/matplotlib/matplotlibrc\", line #3\n",
      "  (fname, cnt))\n",
      "Using TensorFlow backend.\n"
     ]
    }
   ],
   "source": [
    "import tensorflow as tf\n",
    "import numpy as np\n",
    "import matplotlib.pyplot as plt\n",
    "import random\n",
    "from keras.datasets.cifar10 import load_data\n",
    "(x_train, y_train), (x_test, y_test) = load_data()"
   ]
  },
  {
   "cell_type": "code",
   "execution_count": 2,
   "metadata": {},
   "outputs": [],
   "source": [
    "def next_batch(num, data, labels):\n",
    "    idx = np.arange(0,len(data))\n",
    "    np.random.shuffle(idx)\n",
    "    idx=idx[:num]\n",
    "    data_shuffle=[data[i] for i in idx]\n",
    "    labels_shuffle=[labels[i] for i in idx]\n",
    "    \n",
    "    return np.asarray(data_shuffle), np.asarray(labels_shuffle)"
   ]
  },
  {
   "cell_type": "code",
   "execution_count": 3,
   "metadata": {},
   "outputs": [],
   "source": [
    "learning_rate = 0.001\n",
    "training_epoch=10\n",
    "batch_size=128\n",
    "n_classes=10"
   ]
  },
  {
   "cell_type": "code",
   "execution_count": 4,
   "metadata": {},
   "outputs": [
    {
     "name": "stdout",
     "output_type": "stream",
     "text": [
      "WARNING:tensorflow:From <ipython-input-4-7663c780f873>:27: softmax_cross_entropy_with_logits (from tensorflow.python.ops.nn_ops) is deprecated and will be removed in a future version.\n",
      "Instructions for updating:\n",
      "\n",
      "Future major versions of TensorFlow will allow gradients to flow\n",
      "into the labels input on backprop by default.\n",
      "\n",
      "See @{tf.nn.softmax_cross_entropy_with_logits_v2}.\n",
      "\n"
     ]
    }
   ],
   "source": [
    "X = tf.placeholder(tf.float32,[None,32,32,3])\n",
    "Y = tf.placeholder(tf.int64,[None,1])\n",
    "Y_one_hot = tf.one_hot(Y,10)\n",
    "Y_one_hot = tf.reshape(Y_one_hot,[-1,10])\n",
    "\n",
    "L1 = tf.layers.conv2d(X,32,[3,3],padding='SAME',activation=tf.nn.relu)\n",
    "L1 = tf.layers.max_pooling2d(L1,[2,2],[2,2],padding='SAME')\n",
    "L1 = tf.layers.batch_normalization(L1)\n",
    "\n",
    "L1 = tf.layers.conv2d(L1,32,[3,3],padding='SAME',activation=tf.nn.relu)\n",
    "L1 = tf.layers.batch_normalization(L1)\n",
    "\n",
    "L2 = tf.layers.conv2d(L1,64,[3,3],padding='SAME',activation=tf.nn.relu)\n",
    "L2 = tf.layers.max_pooling2d(L2,[2,2],[2,2],padding='SAME')\n",
    "L2 = tf.layers.batch_normalization(L2)\n",
    "\n",
    "L3 = tf.layers.conv2d(L2,128,[3,3],padding='SAME',activation=tf.nn.relu)\n",
    "L3 = tf.layers.max_pooling2d(L3,[2,2],[2,2],padding='SAME')\n",
    "L3 = tf.layers.batch_normalization(L3)\n",
    "\n",
    "L4 = tf.contrib.layers.flatten(L3)##version 다름\n",
    "L4 = tf.layers.dense(L4,256,activation=tf.nn.relu)\n",
    "L4 = tf.layers.dense(L4,512,activation=tf.nn.relu)\n",
    "\n",
    "logits = tf.layers.dense(L4,10,activation=None)\n",
    "\n",
    "cost = tf.reduce_mean(tf.nn.softmax_cross_entropy_with_logits(logits=logits,labels=Y_one_hot))\n",
    "optimizer = tf.train.AdamOptimizer(learning_rate).minimize(cost)\n",
    "\n",
    "is_correct=tf.equal(tf.argmax(logits,1),tf.argmax(Y_one_hot,1))# 2번째 항tf.argmax(Y_one_hot,1)\n",
    "accuracy = tf.reduce_mean(tf.cast(is_correct,tf.float32))"
   ]
  },
  {
   "cell_type": "code",
   "execution_count": 5,
   "metadata": {},
   "outputs": [
    {
     "name": "stdout",
     "output_type": "stream",
     "text": [
      "Learning Start\n",
      "Epoch: 001 Cost:1.783370353\n",
      "Epoch: 002 Cost:1.103275101\n",
      "Epoch: 003 Cost:0.919488211\n",
      "Epoch: 004 Cost:0.773128262\n",
      "Epoch: 005 Cost:0.656693697\n",
      "Epoch: 006 Cost:0.567625385\n",
      "Epoch: 007 Cost:0.485074304\n",
      "Epoch: 008 Cost:0.416783089\n",
      "Epoch: 009 Cost:0.359483834\n",
      "Epoch: 010 Cost:0.317371994\n",
      "Learning Finished\n"
     ]
    }
   ],
   "source": [
    "sess=tf.Session()\n",
    "sess.run(tf.global_variables_initializer())\n",
    "total_batch = int(x_train.shape[0]/batch_size)\n",
    "\n",
    "print('Learning Start')\n",
    "for epoch in range(training_epoch):\n",
    "    c_avg = 0\n",
    "    for i in range(total_batch):\n",
    "        batch_xs, batch_ys = next_batch(batch_size,x_train,y_train)\n",
    "        c,_=sess.run([cost,optimizer],feed_dict={X:batch_xs,Y:batch_ys})\n",
    "        c_avg+=c/total_batch\n",
    "    \n",
    "    x_s,y_s=next_batch(1000,x_test,y_test)\n",
    "    print('Epoch: {:03d}'.format(epoch+1),'Cost:%.9f'%c_avg)\n",
    "    #print('Acc:{:.5f}'.format(sess.run(accuracy,feed_dict={X:x_s,Y:y_s})))\n",
    "    \n",
    "print('Learning Finished')    "
   ]
  },
  {
   "cell_type": "code",
   "execution_count": 18,
   "metadata": {},
   "outputs": [
    {
     "name": "stdout",
     "output_type": "stream",
     "text": [
      "0.6979166666666666\n"
     ]
    }
   ],
   "source": [
    "#전체 테스트셋에서의 정확도 OOM때문에 분할계산 후 평균\n",
    "acc_avg=0\n",
    "test_size = x_test.shape[0]\n",
    "total_batch = int(test_size/batch_size)\n",
    "for i in range(total_batch):\n",
    "    offset = i*batch_size\n",
    "    x_s,y_s=x_test[offset:offset+batch_size],y_test[offset:offset+batch_size]\n",
    "    c=sess.run(accuracy,feed_dict={X:x_s,Y:y_s})\n",
    "    acc_avg+=c\n",
    "print(acc_avg/total_batch)"
   ]
  },
  {
   "cell_type": "code",
   "execution_count": 34,
   "metadata": {},
   "outputs": [
    {
     "name": "stdout",
     "output_type": "stream",
     "text": [
      "실제값: [[4]]\n",
      "예측값: [4]\n"
     ]
    }
   ],
   "source": [
    "#랜덤한 수로 하나 뽑음\n",
    "import random\n",
    "a=random.randint(0,x_test.shape[0]-1)\n",
    "print(\"실제값:\",y_test[a:a+1])\n",
    "print(\"예측값:\",sess.run(tf.argmax(logits,1),feed_dict={X:x_test[a:a+1]}))"
   ]
  }
 ],
 "metadata": {
  "kernelspec": {
   "display_name": "Environment (conda_tensorflow_p36)",
   "language": "python",
   "name": "conda_tensorflow_p36"
  },
  "language_info": {
   "codemirror_mode": {
    "name": "ipython",
    "version": 3
   },
   "file_extension": ".py",
   "mimetype": "text/x-python",
   "name": "python",
   "nbconvert_exporter": "python",
   "pygments_lexer": "ipython3",
   "version": "3.6.4"
  }
 },
 "nbformat": 4,
 "nbformat_minor": 2
}
