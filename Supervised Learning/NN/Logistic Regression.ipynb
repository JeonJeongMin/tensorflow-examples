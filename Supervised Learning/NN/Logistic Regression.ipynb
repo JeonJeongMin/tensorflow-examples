{
 "cells": [
  {
   "cell_type": "code",
   "execution_count": 1,
   "metadata": {},
   "outputs": [],
   "source": [
    "import tensorflow as tf\n",
    "import numpy as np\n",
    "import matplotlib.pyplot as plt\n",
    "import pandas as pd\n",
    "import seaborn as sns"
   ]
  },
  {
   "cell_type": "code",
   "execution_count": 2,
   "metadata": {},
   "outputs": [
    {
     "data": {
      "image/png": "[encoded data removed]",
      "text/plain": [
       "<Figure size 402.375x360 with 1 Axes>"
      ]
     },
     "metadata": {
      "needs_background": "light"
     },
     "output_type": "display_data"
    }
   ],
   "source": [
    "x_data = [[1, 2],\n",
    "          [2, 3],\n",
    "          [3, 1],\n",
    "          [4, 3],\n",
    "          [5, 3],\n",
    "          [6, 2]]\n",
    "y_data = [[0],\n",
    "          [0],\n",
    "          [0],\n",
    "          [1],\n",
    "          [1],\n",
    "          [1]]\n",
    "x = np.asarray(x_data)\n",
    "y = np.reshape(y_data,[-1])\n",
    "df = pd.DataFrame(dict(x=x[:,0], y=x[:,1], color=y))\n",
    "sns.lmplot('x', 'y', data=df, hue='color', fit_reg=False)\n",
    "plt.show()"
   ]
  },
  {
   "cell_type": "code",
   "execution_count": 3,
   "metadata": {},
   "outputs": [],
   "source": [
    "X = tf.placeholder(tf.float32,[None,2])\n",
    "Y = tf.placeholder(tf.float32,[None,1])\n",
    "\n",
    "logits = tf.layers.dense(X,1,activation=None)\n",
    "\n",
    "Y_ = tf.nn.sigmoid(logits)\n",
    "predict = tf.round(Y_)\n",
    "\n",
    "cost = tf.reduce_mean(tf.nn.sigmoid_cross_entropy_with_logits(logits=logits,labels=Y))\n",
    "train = tf.train.AdamOptimizer(0.01).minimize(cost)\n"
   ]
  },
  {
   "cell_type": "code",
   "execution_count": 4,
   "metadata": {},
   "outputs": [
    {
     "name": "stdout",
     "output_type": "stream",
     "text": [
      "cost: 4.188843\n",
      "cost: 0.25717637\n",
      "cost: 0.11000519\n",
      "cost: 0.0568976\n",
      "cost: 0.03227235\n",
      "cost: 0.019105619\n",
      "cost: 0.011548747\n",
      "cost: 0.007054677\n",
      "cost: 0.0043330365\n",
      "cost: 0.0026691596\n",
      "cost: 0.0016468582\n",
      "Finish\n"
     ]
    }
   ],
   "source": [
    "sess = tf.Session()\n",
    "sess.run(tf.global_variables_initializer())\n",
    "\n",
    "for i in range(10001):\n",
    "    c,_ = sess.run([cost,train],feed_dict={X:x_data,Y:y_data})\n",
    "    if i%1000==0:\n",
    "        print('cost:',c)\n",
    "print('Finish')"
   ]
  },
  {
   "cell_type": "code",
   "execution_count": 6,
   "metadata": {},
   "outputs": [
    {
     "data": {
      "image/png": "[encoded data removed]",
      "text/plain": [
       "<Figure size 411.875x360 with 1 Axes>"
      ]
     },
     "metadata": {
      "needs_background": "light"
     },
     "output_type": "display_data"
    }
   ],
   "source": [
    "import random\n",
    "data=[]\n",
    "pred=[]\n",
    "for i in range(0,30):\n",
    "    x = random.randint(0,6)\n",
    "    y = random.randint(0,3)\n",
    "    data.append([x,y])\n",
    "    pred.append(sess.run(predict,feed_dict={X:[[x,y]]}))\n",
    "    \n",
    "data = np.asarray(data)\n",
    "pred = np.reshape(pred,[-1])\n",
    "\n",
    "df = pd.DataFrame(dict(x=data[:,0], y=data[:,1], color=pred))\n",
    "sns.lmplot('x', 'y', data=df, hue='color', fit_reg=False)\n",
    "plt.show()\n"
   ]
  }
 ],
 "metadata": {
  "kernelspec": {
   "display_name": "Python 3",
   "language": "python",
   "name": "python3"
  },
  "language_info": {
   "codemirror_mode": {
    "name": "ipython",
    "version": 3
   },
   "file_extension": ".py",
   "mimetype": "text/x-python",
   "name": "python",
   "nbconvert_exporter": "python",
   "pygments_lexer": "ipython3",
   "version": "3.6.8"
  }
 },
 "nbformat": 4,
 "nbformat_minor": 2
}
