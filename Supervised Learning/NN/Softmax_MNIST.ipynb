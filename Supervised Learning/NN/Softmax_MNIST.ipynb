{
 "cells": [
  {
   "cell_type": "code",
   "execution_count": 2,
   "metadata": {},
   "outputs": [
    {
     "name": "stdout",
     "output_type": "stream",
     "text": [
      "Extracting MNIST_data/train-images-idx3-ubyte.gz\n",
      "Extracting MNIST_data/train-labels-idx1-ubyte.gz\n",
      "Extracting MNIST_data/t10k-images-idx3-ubyte.gz\n",
      "Extracting MNIST_data/t10k-labels-idx1-ubyte.gz\n"
     ]
    }
   ],
   "source": [
    "import numpy as np\n",
    "import matplotlib.pyplot as plt\n",
    "import tensorflow as tf\n",
    "from tensorflow.examples.tutorials.mnist import input_data\n",
    "mnist = input_data.read_data_sets(\"MNIST_data/\", one_hot=True)"
   ]
  },
  {
   "cell_type": "code",
   "execution_count": 3,
   "metadata": {},
   "outputs": [],
   "source": [
    "class DNN:\n",
    "    def __init__(self,sess):\n",
    "        self.sess = sess\n",
    "        self.network()\n",
    "        \n",
    "    def network(self):\n",
    "        \n",
    "        self.X = tf.placeholder(tf.float32,[None,784])\n",
    "        self.Y = tf.placeholder(tf.float32,[None,10])\n",
    "        \n",
    "        L1 = tf.layers.dense(self.X,256,activation=tf.nn.relu)\n",
    "        L2 = tf.layers.dense(L1,256,activation=tf.nn.relu)\n",
    "        self.logits = tf.layers.dense(L2,10,activation=None)\n",
    "        \n",
    "        self.cost = tf.reduce_mean(tf.nn.softmax_cross_entropy_with_logits_v2(logits=self.logits,labels=self.Y))\n",
    "        self.optimizer = tf.train.AdamOptimizer(0.01).minimize(self.cost)\n",
    "        \n",
    "        self.predicted = tf.argmax(self.logits,1)\n",
    "        correction = tf.equal(self.predicted, tf.argmax(self.Y,1))\n",
    "        self.accuracy = tf.reduce_mean(tf.cast(correction,tf.float32))\n",
    "        \n",
    "    def train(self,x_data,y_data):\n",
    "        return self.sess.run([self.cost, self.optimizer],feed_dict={self.X:x_data, self.Y:y_data})\n",
    "    \n",
    "    def predict(self,x_data):\n",
    "        return self.sess.run(self.predicted,feed_dict={self.X:x_data})\n",
    "    \n",
    "    def get_accuracy(self,x_test,y_test):\n",
    "        return self.sess.run(self.accuracy,feed_dict={self.X:x_test,self.Y:y_test})\n",
    "        "
   ]
  },
  {
   "cell_type": "code",
   "execution_count": 4,
   "metadata": {},
   "outputs": [
    {
     "name": "stdout",
     "output_type": "stream",
     "text": [
      "epoch: 1 Avg: 0.2442388492314653\n",
      "epoch: 2 Avg: 0.13755738783543084\n",
      "epoch: 3 Avg: 0.11688948065042495\n",
      "epoch: 4 Avg: 0.11113279493948952\n",
      "epoch: 5 Avg: 0.0981866303422827\n",
      "epoch: 6 Avg: 0.0840830726184967\n",
      "epoch: 7 Avg: 0.08555060756985437\n",
      "epoch: 8 Avg: 0.0864073802829212\n",
      "epoch: 9 Avg: 0.07690642714119432\n",
      "epoch: 10 Avg: 0.07125830896671026\n",
      "Finish\n"
     ]
    }
   ],
   "source": [
    "sess=tf.Session()\n",
    "batch_size=100\n",
    "total_batch=int(mnist.train.num_examples/batch_size)\n",
    "\n",
    "\n",
    "model = DNN(sess)  \n",
    "sess.run(tf.global_variables_initializer())\n",
    "\n",
    "for epoch in range(10):\n",
    "    avg_c=0\n",
    "    for i in range(total_batch):\n",
    "        xs,ys = mnist.train.next_batch(batch_size)\n",
    "        c,_ = model.train(xs,ys)\n",
    "        avg_c+=c\n",
    "    print('epoch:',epoch+1,'Avg:',avg_c/total_batch)\n",
    "print('Finish')"
   ]
  },
  {
   "cell_type": "code",
   "execution_count": 5,
   "metadata": {},
   "outputs": [
    {
     "name": "stdout",
     "output_type": "stream",
     "text": [
      "Acc: 0.9682\n"
     ]
    }
   ],
   "source": [
    "xs,ys = mnist.test.next_batch(10000)\n",
    "print('Acc:',model.get_accuracy(xs,ys))"
   ]
  }
 ],
 "metadata": {
  "kernelspec": {
   "display_name": "Python 3",
   "language": "python",
   "name": "python3"
  },
  "language_info": {
   "codemirror_mode": {
    "name": "ipython",
    "version": 3
   },
   "file_extension": ".py",
   "mimetype": "text/x-python",
   "name": "python",
   "nbconvert_exporter": "python",
   "pygments_lexer": "ipython3",
   "version": "3.6.8"
  }
 },
 "nbformat": 4,
 "nbformat_minor": 2
}
