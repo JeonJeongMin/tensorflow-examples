{
 "cells": [
  {
   "cell_type": "code",
   "execution_count": 1,
   "metadata": {},
   "outputs": [
    {
     "name": "stdout",
     "output_type": "stream",
     "text": [
      "Extracting ../MNIST_data/train-images-idx3-ubyte.gz\n",
      "Extracting ../MNIST_data/train-labels-idx1-ubyte.gz\n",
      "Extracting ../MNIST_data/t10k-images-idx3-ubyte.gz\n",
      "Extracting ../MNIST_data/t10k-labels-idx1-ubyte.gz\n"
     ]
    }
   ],
   "source": [
    "import tensorflow as tf\n",
    "import numpy as np\n",
    "import matplotlib.pyplot as plt\n",
    "from tensorflow.examples.tutorials.mnist import input_data\n",
    "tf.set_random_seed(777)\n",
    "mnist = input_data.read_data_sets(\"../MNIST_data/\", one_hot = True)"
   ]
  },
  {
   "cell_type": "code",
   "execution_count": 2,
   "metadata": {},
   "outputs": [],
   "source": [
    "learning_rate=0.001\n",
    "batch_size=100\n",
    "training_epochs=15"
   ]
  },
  {
   "cell_type": "code",
   "execution_count": 3,
   "metadata": {},
   "outputs": [],
   "source": [
    "tf.reset_default_graph()#restart대신 실행시마다 그래프를 리셋시킴\n",
    "class Model:\n",
    "    def __init__(self,sess,name):\n",
    "        self.sess=sess\n",
    "        self.name=name\n",
    "        self.build_net()\n",
    "        \n",
    "    def build_net(self):\n",
    "        with tf.variable_scope(self.name):\n",
    "            self.X = tf.placeholder(tf.float32, [None,784])\n",
    "            X_img = tf.reshape(self.X ,[-1,28,28,1])\n",
    "            self.Y = tf.placeholder(tf.float32, [None,10])\n",
    "            self.is_training = tf.placeholder(tf.bool)\n",
    "            \n",
    "            L1=tf.layers.conv2d(X_img,16,[3,3],padding='SAME', activation=tf.nn.relu)\n",
    "            L1=tf.layers.max_pooling2d(L1,[2,2],[2,2],padding='SAME')\n",
    "            L1=tf.layers.dropout(L1,0.7,self.is_training)\n",
    "            \n",
    "            L2 = tf.layers.conv2d(L1,32,[3,3],padding='SAME',activation=tf.nn.relu)\n",
    "            L2 = tf.layers.max_pooling2d(L2,[2,2],[2,2], padding='SAME')\n",
    "            L2 = tf.layers.dropout(L2,0.7,self.is_training)\n",
    "            \n",
    "            L3 = tf.contrib.layers.flatten(L2)\n",
    "            L3 = tf.layers.dense(L3, 128, activation=tf.nn.relu)\n",
    "            \n",
    "            self.logits = tf.layers.dense(L3, 10, activation=None)\n",
    "            \n",
    "        self.cost = tf.reduce_mean(tf.nn.softmax_cross_entropy_with_logits(\n",
    "            logits=self.logits, labels=self.Y))\n",
    "        self.optimizer = tf.train.AdamOptimizer(learning_rate).minimize(self.cost)\n",
    "        \n",
    "        correct_prediction=tf.equal(tf.argmax(self.logits,1),tf.argmax(self.Y,1))\n",
    "        self.accuracy  = tf.reduce_mean(tf.cast(correct_prediction,tf.float32))\n",
    "\n",
    "\n",
    "    def predict(self,x_test):\n",
    "        return self.sess.run(tf.argmax(self.logits,1), feed_dict={self.X:x_test,self.is_training:False})\n",
    "    \n",
    "    def get_accuracy(self,x_test,y_test):\n",
    "        return self.sess.run(self.accuracy, feed_dict = {\n",
    "            self.X:x_test, self.Y:y_test, self.is_training:False})\n",
    "    \n",
    "    def train(self, x_data, y_data):\n",
    "        return self.sess.run([self.cost, self.optimizer], feed_dict={\n",
    "            self.X:x_data, self.Y:y_data, self.is_training:True})\n",
    "            \n",
    "            "
   ]
  },
  {
   "cell_type": "code",
   "execution_count": 4,
   "metadata": {},
   "outputs": [
    {
     "name": "stdout",
     "output_type": "stream",
     "text": [
      "Learning Start\n",
      "Epoch: 001 Cost: 0.231106613\n",
      "Epoch: 002 Cost: 0.064258457\n",
      "Epoch: 003 Cost: 0.045578218\n",
      "Epoch: 004 Cost: 0.036359362\n",
      "Epoch: 005 Cost: 0.027171668\n",
      "Epoch: 006 Cost: 0.022542550\n",
      "Epoch: 007 Cost: 0.018830004\n",
      "Epoch: 008 Cost: 0.015133013\n",
      "Epoch: 009 Cost: 0.012812396\n",
      "Epoch: 010 Cost: 0.010626898\n",
      "Epoch: 011 Cost: 0.007560560\n",
      "Epoch: 012 Cost: 0.008663535\n",
      "Epoch: 013 Cost: 0.007471559\n",
      "Epoch: 014 Cost: 0.004884567\n",
      "Epoch: 015 Cost: 0.006540308\n",
      "Learning Finished\n"
     ]
    }
   ],
   "source": [
    "sess=tf.Session()\n",
    "m1 = Model(sess,'m1')\n",
    "sess.run(tf.global_variables_initializer())\n",
    "\n",
    "print('Learning Start')\n",
    "\n",
    "total_batch=int(mnist.train.num_examples/batch_size)\n",
    "for epoch in range(training_epochs):\n",
    "    avg_cost = 0\n",
    "    for i in range(total_batch):\n",
    "        batch_xs, batch_ys = mnist.train.next_batch(batch_size)\n",
    "        c,_=m1.train(batch_xs,batch_ys)\n",
    "        avg_cost+=c/total_batch\n",
    "        \n",
    "    print('Epoch: %03d'%(epoch+1), 'Cost: %.9f'%(avg_cost))\n",
    "\n",
    "print('Learning Finished')"
   ]
  },
  {
   "cell_type": "code",
   "execution_count": 5,
   "metadata": {},
   "outputs": [
    {
     "name": "stdout",
     "output_type": "stream",
     "text": [
      "Acc: 0.9835998\n"
     ]
    }
   ],
   "source": [
    "print('Acc:',m1.get_accuracy(mnist.test.images[:5000],mnist.test.labels[:5000]))"
   ]
  },
  {
   "cell_type": "code",
   "execution_count": 6,
   "metadata": {
    "scrolled": true
   },
   "outputs": [
    {
     "name": "stdout",
     "output_type": "stream",
     "text": [
      "예측: [0]\n",
      "실제: [0]\n"
     ]
    }
   ],
   "source": [
    "import random\n",
    "r = random.randint(0,mnist.test.num_examples)\n",
    "print('예측:',m1.predict(mnist.test.images[r:r+1]))\n",
    "print('실제:',sess.run(tf.argmax(mnist.test.labels[r:r+1],1)))"
   ]
  }
 ],
 "metadata": {
  "kernelspec": {
   "display_name": "Python [conda env:tensorflow]",
   "language": "python",
   "name": "conda-env-tensorflow-py"
  },
  "language_info": {
   "codemirror_mode": {
    "name": "ipython",
    "version": 3
   },
   "file_extension": ".py",
   "mimetype": "text/x-python",
   "name": "python",
   "nbconvert_exporter": "python",
   "pygments_lexer": "ipython3",
   "version": "3.5.5"
  }
 },
 "nbformat": 4,
 "nbformat_minor": 2
}
