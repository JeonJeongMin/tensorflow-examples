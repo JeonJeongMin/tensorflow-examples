{
 "cells": [
  {
   "cell_type": "code",
   "execution_count": 1,
   "metadata": {},
   "outputs": [
    {
     "name": "stdout",
     "output_type": "stream",
     "text": [
      "Extracting ../MNIST_data/train-images-idx3-ubyte.gz\n",
      "Extracting ../MNIST_data/train-labels-idx1-ubyte.gz\n",
      "Extracting ../MNIST_data/t10k-images-idx3-ubyte.gz\n",
      "Extracting ../MNIST_data/t10k-labels-idx1-ubyte.gz\n"
     ]
    }
   ],
   "source": [
    "import tensorflow as tf\n",
    "import numpy as np\n",
    "import matplotlib.pyplot as plt\n",
    "from tensorflow.examples.tutorials.mnist import input_data\n",
    "tf.set_random_seed(777)\n",
    "mnist = input_data.read_data_sets(\"../MNIST_data/\", one_hot=True)"
   ]
  },
  {
   "cell_type": "code",
   "execution_count": 2,
   "metadata": {},
   "outputs": [],
   "source": [
    "training_epoch = 10\n",
    "batch_size = 100\n",
    "learning_rate = 0.001"
   ]
  },
  {
   "cell_type": "code",
   "execution_count": 3,
   "metadata": {},
   "outputs": [],
   "source": [
    "X=tf.placeholder(tf.float32,[None,784])\n",
    "X_img = tf.reshape(X,[-1,28,28,1])\n",
    "Y = tf.placeholder(tf.float32, [None, 10])\n",
    "is_training = tf.placeholder(tf.bool)\n",
    "\n",
    "L1 = tf.layers.conv2d(inputs = X_img, filters=16, kernel_size=[3,3], padding='SAME', activation=tf.nn.relu)\n",
    "L1 = tf.layers.max_pooling2d(inputs=L1, pool_size=[2,2], padding='SAME', strides=2)#김성훈 교수님\n",
    "#L1 = tf.layers.max_pooling2d(L1, [2,2], [2,2]) #골빈\n",
    "dropout1 = tf.layers.dropout(L1, rate = 0.7, training=is_training)\n",
    "\n",
    "L2 = tf.layers.conv2d(dropout1, filters=32, kernel_size=[3,3], padding='SAME', activation=tf.nn.relu)\n",
    "L2 = tf.layers.max_pooling2d(L2, [2,2], [2,2])\n",
    "dropout2 = tf.layers.dropout(L2, rate=0.7, training=is_training)\n",
    "\n",
    "L3 = tf.contrib.layers.flatten(dropout2)\n",
    "L3 = tf.layers.dense(L3, 128, activation = tf.nn.relu)\n",
    "L3 = tf.layers.dropout(L3, 0.5, training=is_training)\n",
    "\n",
    "model = tf.layers.dense(L3, 10, activation = None) # None을 굳이 안해도되나?\n",
    "\n",
    "cost = tf.reduce_mean(tf.nn.softmax_cross_entropy_with_logits(logits=model, labels=Y))\n",
    "optimizer = tf.train.AdamOptimizer(learning_rate).minimize(cost)"
   ]
  },
  {
   "cell_type": "code",
   "execution_count": 4,
   "metadata": {},
   "outputs": [
    {
     "name": "stdout",
     "output_type": "stream",
     "text": [
      "Learning Start\n",
      "Epoch:  1 Cost: 0.913222\n",
      "Epoch:  2 Cost: 0.423992\n",
      "Epoch:  3 Cost: 0.340108\n",
      "Epoch:  4 Cost: 0.297256\n",
      "Epoch:  5 Cost: 0.274542\n",
      "Epoch:  6 Cost: 0.254395\n",
      "Epoch:  7 Cost: 0.240034\n",
      "Epoch:  8 Cost: 0.232347\n",
      "Epoch:  9 Cost: 0.229616\n",
      "Epoch: 10 Cost: 0.218668\n",
      "Learning Finished!\n"
     ]
    }
   ],
   "source": [
    "total_batch = int(mnist.train.num_examples/batch_size)\n",
    "sess= tf.Session()\n",
    "sess.run(tf.global_variables_initializer())\n",
    "print('Learning Start')\n",
    "for epoch in range(training_epoch):\n",
    "    total_cost = 0\n",
    "    for i in range(total_batch):\n",
    "        batch_xs, batch_ys = mnist.train.next_batch(batch_size)\n",
    "        c, _ = sess.run([cost, optimizer], feed_dict = {X:batch_xs, Y:batch_ys, is_training:True})\n",
    "        \n",
    "        total_cost += c\n",
    "    print('Epoch:''{:3d}'.format(epoch+1), 'Cost:','%5f'%(total_cost/total_batch))\n",
    "    \n",
    "print('Learning Finished!')\n",
    "        "
   ]
  },
  {
   "cell_type": "code",
   "execution_count": 8,
   "metadata": {},
   "outputs": [
    {
     "name": "stdout",
     "output_type": "stream",
     "text": [
      "Accuracy: 0.976333\n"
     ]
    }
   ],
   "source": [
    "is_correct = tf.equal(tf.argmax(model,axis=1), tf.argmax(Y,axis=1))\n",
    "accuracy = tf.reduce_mean(tf.cast(is_correct, tf.float32))\n",
    "\n",
    "acc=sess.run(accuracy, feed_dict=\n",
    "        {X:mnist.test.images[:3000], Y:mnist.test.labels[:3000], is_training:False})\n",
    "print('Accuracy:','%5f'%acc)\n"
   ]
  },
  {
   "cell_type": "code",
   "execution_count": 32,
   "metadata": {},
   "outputs": [
    {
     "name": "stdout",
     "output_type": "stream",
     "text": [
      "실제값: [2]\n",
      "예측값: [2]\n"
     ]
    }
   ],
   "source": [
    "import random\n",
    "a=random.randint(0,mnist.test.num_examples-1)\n",
    "print(\"실제값:\",sess.run(tf.argmax(mnist.test.labels[a:a+1],1)))\n",
    "print(\"예측값:\",sess.run(tf.argmax(model,1)\n",
    "                       ,feed_dict={X:mnist.test.images[a:a+1],is_training:False}))"
   ]
  }
 ],
 "metadata": {
  "kernelspec": {
   "display_name": "Python [conda env:tensorflow]",
   "language": "python",
   "name": "conda-env-tensorflow-py"
  },
  "language_info": {
   "codemirror_mode": {
    "name": "ipython",
    "version": 3
   },
   "file_extension": ".py",
   "mimetype": "text/x-python",
   "name": "python",
   "nbconvert_exporter": "python",
   "pygments_lexer": "ipython3",
   "version": "3.5.5"
  }
 },
 "nbformat": 4,
 "nbformat_minor": 2
}
