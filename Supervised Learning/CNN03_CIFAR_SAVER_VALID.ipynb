{
 "cells": [
  {
   "cell_type": "code",
   "execution_count": 1,
   "metadata": {
    "scrolled": true
   },
   "outputs": [
    {
     "name": "stderr",
     "output_type": "stream",
     "text": [
      "/home/ubuntu/anaconda3/envs/tensorflow_p36/lib/python3.6/site-packages/h5py/__init__.py:36: FutureWarning: Conversion of the second argument of issubdtype from `float` to `np.floating` is deprecated. In future, it will be treated as `np.float64 == np.dtype(float).type`.\n",
      "  from ._conv import register_converters as _register_converters\n",
      "/home/ubuntu/anaconda3/envs/tensorflow_p36/lib/python3.6/site-packages/matplotlib/__init__.py:1067: UserWarning: Duplicate key in file \"/home/ubuntu/.config/matplotlib/matplotlibrc\", line #2\n",
      "  (fname, cnt))\n",
      "/home/ubuntu/anaconda3/envs/tensorflow_p36/lib/python3.6/site-packages/matplotlib/__init__.py:1067: UserWarning: Duplicate key in file \"/home/ubuntu/.config/matplotlib/matplotlibrc\", line #3\n",
      "  (fname, cnt))\n",
      "Using TensorFlow backend.\n"
     ]
    }
   ],
   "source": [
    "import tensorflow as tf\n",
    "import numpy as np\n",
    "import matplotlib.pyplot as plt\n",
    "import random\n",
    "from keras.datasets.cifar10 import load_data\n",
    "(x_train, y_train), (x_test, y_test) = load_data()"
   ]
  },
  {
   "cell_type": "code",
   "execution_count": 2,
   "metadata": {},
   "outputs": [],
   "source": [
    "#validation set 나누기\n",
    "x_val,y_val = x_train[-10000:], y_train[-10000:]\n",
    "x_train, y_train = x_train[:40000], y_train[:40000]"
   ]
  },
  {
   "cell_type": "code",
   "execution_count": 3,
   "metadata": {},
   "outputs": [],
   "source": [
    "def next_batch(num, data, labels):\n",
    "    idx = np.arange(0,len(data))\n",
    "    np.random.shuffle(idx)\n",
    "    idx=idx[:num]\n",
    "    data_shuffle=[data[i] for i in idx]\n",
    "    labels_shuffle=[labels[i] for i in idx]\n",
    "    \n",
    "    return np.asarray(data_shuffle), np.asarray(labels_shuffle)"
   ]
  },
  {
   "cell_type": "code",
   "execution_count": 4,
   "metadata": {},
   "outputs": [],
   "source": [
    "learning_rate = 0.001\n",
    "training_epoch=10\n",
    "batch_size=128\n",
    "n_classes=10"
   ]
  },
  {
   "cell_type": "code",
   "execution_count": 5,
   "metadata": {
    "scrolled": false
   },
   "outputs": [],
   "source": [
    "X = tf.placeholder(tf.float32,[None,32,32,3])\n",
    "Y = tf.placeholder(tf.int64,[None,1])\n",
    "Y_one_hot = tf.one_hot(Y,10)\n",
    "Y_one_hot = tf.reshape(Y_one_hot,[-1,10])\n",
    "\n",
    "L1 = tf.layers.conv2d(X,32,[3,3],padding='SAME',activation=tf.nn.relu)\n",
    "L1 = tf.layers.max_pooling2d(L1,[2,2],[2,2],padding='SAME')\n",
    "L1 = tf.layers.batch_normalization(L1)\n",
    "\n",
    "L1 = tf.layers.conv2d(L1,32,[3,3],padding='SAME',activation=tf.nn.relu)\n",
    "L1 = tf.layers.batch_normalization(L1)\n",
    "\n",
    "L2 = tf.layers.conv2d(L1,64,[3,3],padding='SAME',activation=tf.nn.relu)\n",
    "L2 = tf.layers.max_pooling2d(L2,[2,2],[2,2],padding='SAME')\n",
    "L2 = tf.layers.batch_normalization(L2)\n",
    "\n",
    "L3 = tf.layers.conv2d(L2,128,[3,3],padding='SAME',activation=tf.nn.relu)\n",
    "L3 = tf.layers.max_pooling2d(L3,[2,2],[2,2],padding='SAME')\n",
    "L3 = tf.layers.batch_normalization(L3)\n",
    "\n",
    "L4 = tf.contrib.layers.flatten(L3)##version 다름\n",
    "L4 = tf.layers.dense(L4,256,activation=tf.nn.relu)\n",
    "L4 = tf.layers.dense(L4,512,activation=tf.nn.relu)\n",
    "\n",
    "logits = tf.layers.dense(L4,10,activation=None)\n",
    "\n",
    "cost = tf.reduce_mean(tf.nn.softmax_cross_entropy_with_logits_v2(logits=logits,labels=Y_one_hot))\n",
    "optimizer = tf.train.AdamOptimizer(learning_rate).minimize(cost)\n",
    "\n",
    "is_correct=tf.equal(tf.argmax(logits,1),tf.argmax(Y_one_hot,1))# 2번째 항tf.argmax(Y_one_hot,1)\n",
    "accuracy = tf.reduce_mean(tf.cast(is_correct,tf.float32))"
   ]
  },
  {
   "cell_type": "code",
   "execution_count": 6,
   "metadata": {},
   "outputs": [
    {
     "name": "stdout",
     "output_type": "stream",
     "text": [
      "INFO:tensorflow:Restoring parameters from ./Saver/CIFAR01/CIFAR01.ckpt-0\n",
      "Load Success\n"
     ]
    }
   ],
   "source": [
    "global_step = tf.Variable(0, trainable=True, name='global_step')#초기값0 trainable-카운트\n",
    "sess=tf.Session()\n",
    "saver = tf.train.Saver(tf.global_variables())#앞서 정의한 변수를 가져오는 함수\n",
    "\n",
    "ckpt = tf.train.get_checkpoint_state('./Saver/CIFAR01')\n",
    "if ckpt and tf.train.checkpoint_exists(ckpt.model_checkpoint_path):# if you want to skip, add and 0 \n",
    "    saver.restore(sess, ckpt.model_checkpoint_path)\n",
    "    print('Load Success')\n",
    "else:\n",
    "    sess.run(tf.global_variables_initializer())\n",
    "    print('Load Fail')"
   ]
  },
  {
   "cell_type": "code",
   "execution_count": 7,
   "metadata": {},
   "outputs": [
    {
     "name": "stdout",
     "output_type": "stream",
     "text": [
      "Learning Start\n",
      "Max_val_acc:0.00000\n",
      "Learning Finished\n"
     ]
    }
   ],
   "source": [
    "total_batch = int(x_train.shape[0]/batch_size)\n",
    "\n",
    "print('Learning Start')\n",
    "\n",
    "max_val_acc = 0\n",
    "for epoch in range(0):\n",
    "    c_avg = 0\n",
    "    for i in range(total_batch):\n",
    "        batch_xs, batch_ys = next_batch(batch_size,x_train,y_train)\n",
    "        c,_=sess.run([cost,optimizer],feed_dict={X:batch_xs,Y:batch_ys})\n",
    "        c_avg+=c/total_batch\n",
    "    \n",
    "    val_acc=0\n",
    "    for i in range(10):\n",
    "        offset = i*1000\n",
    "        x_s,y_s=x_test[offset:offset+1000],y_test[offset:offset+1000]\n",
    "        c=sess.run(accuracy,feed_dict={X:x_s,Y:y_s})\n",
    "        val_acc+=c/10\n",
    "    \n",
    "    print('Epoch: {:03d}'.format(epoch+1),'Cost:%.9f'%c_avg)\n",
    "    if max_val_acc<val_acc:\n",
    "        max_val_acc=val_acc\n",
    "        saver.save(sess, './Saver/CIFAR01/CIFAR01.ckpt',global_step = global_step)\n",
    "    print('Acc:{:.5f}'.format(val_acc))\n",
    "\n",
    "print('Max_val_acc:{:.5f}'.format(max_val_acc))    \n",
    "print('Learning Finished')    "
   ]
  },
  {
   "cell_type": "code",
   "execution_count": 9,
   "metadata": {},
   "outputs": [
    {
     "name": "stdout",
     "output_type": "stream",
     "text": [
      "0.6722756410256411\n"
     ]
    }
   ],
   "source": [
    "#전체 테스트셋에서의 정확도 OOM때문에 분할계산 후 평균\n",
    "acc_avg=0\n",
    "test_size = x_test.shape[0]\n",
    "total_batch = int(test_size/batch_size)\n",
    "\n",
    "for i in range(total_batch):\n",
    "    offset = i*batch_size\n",
    "    x_s,y_s=x_test[offset:offset+batch_size],y_test[offset:offset+batch_size]\n",
    "    c=sess.run(accuracy,feed_dict={X:x_s,Y:y_s})\n",
    "    acc_avg+=c\n",
    "print(acc_avg/total_batch)"
   ]
  },
  {
   "cell_type": "code",
   "execution_count": 25,
   "metadata": {},
   "outputs": [
    {
     "name": "stdout",
     "output_type": "stream",
     "text": [
      "실제값: [[3]]\n",
      "예측값: [3]\n"
     ]
    }
   ],
   "source": [
    "#랜덤한 수로 하나 뽑음\n",
    "import random\n",
    "a=random.randint(0,x_test.shape[0]-1)\n",
    "print(\"실제값:\",y_test[a:a+1])\n",
    "print(\"예측값:\",sess.run(tf.argmax(logits,1),feed_dict={X:x_test[a:a+1]}))"
   ]
  }
 ],
 "metadata": {
  "kernelspec": {
   "display_name": "Environment (conda_tensorflow_p36)",
   "language": "python",
   "name": "conda_tensorflow_p36"
  },
  "language_info": {
   "codemirror_mode": {
    "name": "ipython",
    "version": 3
   },
   "file_extension": ".py",
   "mimetype": "text/x-python",
   "name": "python",
   "nbconvert_exporter": "python",
   "pygments_lexer": "ipython3",
   "version": "3.6.4"
  }
 },
 "nbformat": 4,
 "nbformat_minor": 2
}
