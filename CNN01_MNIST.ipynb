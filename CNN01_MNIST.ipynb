{
 "cells": [
  {
   "cell_type": "code",
   "execution_count": 1,
   "metadata": {},
   "outputs": [
    {
     "name": "stdout",
     "output_type": "stream",
     "text": [
      "Extracting ../MNIST_data/train-images-idx3-ubyte.gz\n",
      "Extracting ../MNIST_data/train-labels-idx1-ubyte.gz\n",
      "Extracting ../MNIST_data/t10k-images-idx3-ubyte.gz\n",
      "Extracting ../MNIST_data/t10k-labels-idx1-ubyte.gz\n"
     ]
    }
   ],
   "source": [
    "import tensorflow as tf\n",
    "import numpy as np\n",
    "import matplotlib.pyplot as plt\n",
    "from tensorflow.examples.tutorials.mnist import input_data\n",
    "tf.set_random_seed(777)\n",
    "mnist = input_data.read_data_sets(\"../MNIST_data/\", one_hot = True)"
   ]
  },
  {
   "cell_type": "code",
   "execution_count": 2,
   "metadata": {},
   "outputs": [],
   "source": [
    "training_epoch=10\n",
    "learning_rate=0.001\n",
    "batch_size=100"
   ]
  },
  {
   "cell_type": "code",
   "execution_count": 3,
   "metadata": {},
   "outputs": [],
   "source": [
    "X=tf.placeholder(tf.float32,[None,784])\n",
    "X_img = tf.reshape(X,[-1,28,28,1])\n",
    "Y=tf.placeholder(tf.float32,[None,10])\n",
    "keep_prob = tf.placeholder(tf.float32)\n",
    "\n",
    "W1 = tf.Variable(tf.random_normal([3,3,1,16], stddev=0.01)) # 3x3x1 filter를 32개 사용 -> 출력의 두께가 32\n",
    "L1 = tf.nn.conv2d(X_img, W1, strides=[1,1,1,1], padding='SAME') # stride의 4개원소중 가운데 두개가 실제 striding하는 값\n",
    "L1 = tf.nn.relu(L1)\n",
    "L1 = tf.nn.max_pool(L1, ksize=[1,2,2,1], strides=[1,2,2,1], padding='SAME')\n",
    "\n",
    "W2 = tf.Variable(tf.random_normal([3,3,16,32],stddev=0.01))\n",
    "L2 = tf.nn.conv2d(L1,W2,strides=[1,1,1,1],padding='SAME')\n",
    "L2 = tf.nn.relu(L2)\n",
    "L2 = tf.nn.max_pool(L2, ksize=[1,2,2,1], strides=[1,2,2,1], padding='SAME')\n",
    "\n",
    "W3 = tf.Variable(tf.random_normal([7*7*32,128], stddev=0.01))\n",
    "L3 = tf.reshape(L2, [-1,7*7*32])\n",
    "L3 = tf.nn.relu(tf.matmul(L3,W3))\n",
    "L3 = tf.nn.dropout(L3, keep_prob) # FC에 적용하는 dropout\n",
    "\n",
    "W4 = tf.Variable(tf.random_normal([128,10]))\n",
    "model = tf.matmul(L3,W4)\n",
    "\n",
    "cost = tf.reduce_mean(tf.nn.softmax_cross_entropy_with_logits(logits=model, labels=Y))\n",
    "optimizer = tf.train.AdamOptimizer(learning_rate).minimize(cost)"
   ]
  },
  {
   "cell_type": "code",
   "execution_count": 4,
   "metadata": {},
   "outputs": [
    {
     "name": "stdout",
     "output_type": "stream",
     "text": [
      "Learning Start!\n",
      "Epoch:   1 Cost: 0.293891\n",
      "Epoch:   2 Cost: 0.107221\n",
      "Epoch:   3 Cost: 0.078092\n",
      "Epoch:   4 Cost: 0.065867\n",
      "Epoch:   5 Cost: 0.053675\n",
      "Epoch:   6 Cost: 0.046514\n",
      "Epoch:   7 Cost: 0.039414\n",
      "Epoch:   8 Cost: 0.034014\n",
      "Epoch:   9 Cost: 0.029981\n",
      "Epoch:  10 Cost: 0.027737\n",
      "Learning Finished!\n"
     ]
    }
   ],
   "source": [
    "total_batch = int(mnist.train.num_examples/batch_size)\n",
    "\n",
    "print('Learning Start!')\n",
    "\n",
    "sess=tf.Session()\n",
    "sess.run(tf.global_variables_initializer())\n",
    "\n",
    "for epoch in range(training_epoch):\n",
    "    total_cost=0\n",
    "    for i in range(total_batch):\n",
    "        batch_xs, batch_ys = mnist.train.next_batch(batch_size)\n",
    "        c, _= sess.run([cost, optimizer], feed_dict={X:batch_xs, Y:batch_ys, keep_prob:0.7})\n",
    "        total_cost+=c\n",
    "        \n",
    "    print('Epoch:','{:3d}'.format(epoch+1), 'Cost:','%5f'%(total_cost/total_batch))\n",
    "        \n",
    "print('Learning Finished!')\n",
    "        "
   ]
  },
  {
   "cell_type": "code",
   "execution_count": 5,
   "metadata": {
    "scrolled": true
   },
   "outputs": [
    {
     "name": "stdout",
     "output_type": "stream",
     "text": [
      "acc: 0.99030006\n"
     ]
    }
   ],
   "source": [
    "is_correct = tf.equal(tf.argmax(Y,1),tf.argmax(model,1)) #argmax의 axis=1인 경우 행에서의 최대값을 찾음\n",
    "                                                        #axis=0 열 기준 axis=1 행 기준\n",
    "accuracy = tf.reduce_mean(tf.cast(is_correct,tf.float32)) #tf.cast는 tf.float32의 자료형으로 casting(변환)해줌\n",
    "print('acc:',(sess.run(accuracy,\n",
    "                          feed_dict={X:mnist.test.images, Y:mnist.test.labels, keep_prob:1})))"
   ]
  },
  {
   "cell_type": "code",
   "execution_count": 17,
   "metadata": {},
   "outputs": [
    {
     "name": "stdout",
     "output_type": "stream",
     "text": [
      "Label:  [9]\n",
      "Prediction:  [9]\n"
     ]
    }
   ],
   "source": [
    "import random\n",
    "r = random.randint(0, mnist.test.num_examples - 1)\n",
    "print(\"Label: \", sess.run(tf.argmax(mnist.test.labels[r:r + 1], 1)))\n",
    "print(\"Prediction: \", sess.run(\n",
    "    tf.argmax(model, 1), feed_dict={X: mnist.test.images[r:r + 1], keep_prob: 1}))"
   ]
  }
 ],
 "metadata": {
  "kernelspec": {
   "display_name": "Python [conda env:tensorflow]",
   "language": "python",
   "name": "conda-env-tensorflow-py"
  },
  "language_info": {
   "codemirror_mode": {
    "name": "ipython",
    "version": 3
   },
   "file_extension": ".py",
   "mimetype": "text/x-python",
   "name": "python",
   "nbconvert_exporter": "python",
   "pygments_lexer": "ipython3",
   "version": "3.5.5"
  }
 },
 "nbformat": 4,
 "nbformat_minor": 2
}
